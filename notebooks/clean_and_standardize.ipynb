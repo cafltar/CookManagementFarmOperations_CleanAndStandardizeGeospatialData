{
 "cells": [
  {
   "cell_type": "code",
   "execution_count": 1,
   "id": "9f831f27",
   "metadata": {},
   "outputs": [],
   "source": [
    "# Load Libs\n",
    "import geopandas\n",
    "from pathlib import Path\n",
    "import pandas as pd\n",
    "import datetime\n",
    "from matplotlib import pyplot as plt\n",
    "\n",
    "from geopandas.tools import sjoin"
   ]
  },
  {
   "cell_type": "code",
   "execution_count": null,
   "id": "060ae78c",
   "metadata": {},
   "outputs": [],
   "source": [
    "# Load data\n",
    "\n",
    "# Setup paths\n",
    "INPUT_PATH = Path.cwd() / '..' / 'input'\n",
    "\n",
    "# Paths to field boundaries\n",
    "ce_boundary_path = INPUT_PATH / '20170206_CafRoughBoundaries' / 'CafCookEastArea.shp'\n",
    "cw_boundary_path = INPUT_PATH / 'FromIanLeslie_CafGeospatial' / 'CE_CW_WGS1984' / 'CookWestBoundariesWGS1984' / 'CookWestBoundariesWGS1984.shp'\n",
    "\n",
    "# Paths to georeference points\n",
    "ce_gp_path = INPUT_PATH / 'CookEast_GeoReferencePoints_2016_IL' / 'All_CookEast.shp'\n",
    "cw_gp_path = INPUT_PATH / 'FromIanLeslie_CafGeospatial' / 'CE_CW_WGS1984' / 'CookWestGeoRefPointsWGS1984' / 'CookWestGeoRefPoints_WGS1984.shp'\n",
    "\n",
    "# Paths to treatment boundaries\n",
    "treatment_paths = {\n",
    "    'ce_treatment_path_1999To2015': INPUT_PATH / 'CookEastStrips' / 'Field_Plan_Final.shp',\n",
    "    'ce_treatment_path_2016_C01': INPUT_PATH / 'CE_WGS1984_2016_OperationalFieldBoundaries' / 'C01' / 'C0117001.shp',\n",
    "    'ce_treatment_path_2016_C02': INPUT_PATH / 'CE_WGS1984_2016_OperationalFieldBoundaries' / 'C02' / 'C0217001.shp',\n",
    "    'ce_treatment_path_2017': INPUT_PATH / '20250307_CookEastFertZonesFromDataStream' / 'CE_SW_2zones2017rates' / 'CE_SW_2zones2017rates.shp',\n",
    "    'ce_treatment_path_2018': '',  # No fert zones for 2018, crop was garbs\n",
    "    'ce_treatment_path_2019': INPUT_PATH / '20250307_CookEastFertZonesFromDataStream' / 'CE_WW_2zones2019' / 'CE_WW_2zones2019.shp',\n",
    "    'ce_treatment_path_2020': INPUT_PATH / '20250307_CookEastFertZonesFromDataStream' / 'CE_C01_Fert_2zones2020_WGS84' / 'CE_C01_Fert_2zones2020_WGS84.shp',\n",
    "    'ce_treatment_path_2021': INPUT_PATH / '20250307_CookEastFertZonesFromDataStream' / 'WSU_C01_Fert_2zones2021_WGS84' / 'WSU_C01_Fert_2zones2021_WGS84.shp',\n",
    "    'ce_treatment_path_2022': INPUT_PATH / '20250307_CookEastFertZonesFromDataStream' / 'WSU_C01_Fert_2zones2022_WGS84' / 'WSU_C01_Fert_2zones2022_WGS84' / 'WSU_C01_Fert_2zones2022_WGS84.shp'\n",
    "}\n",
    "\n",
    "# CE Gridpoints\n",
    "#ce_gp_utm_11n = geopandas.read_file(ce_gp_path)\n",
    "#ce_gp_utm_11n.crs = 'EPSG:26911'\n",
    "#\n",
    "#ce_gp = (ce_gp_utm_11n\n",
    "#    .to_crs('EPSG:4326')\n",
    "#    .drop(\n",
    "#        ['FID_1', 'COLUMN', 'ROW', 'ROW2', 'COL_ROW', 'COL_ROW2', \n",
    "#        'EASTING', 'NORTHING', 'CROP', 'AREA', \n",
    "#        'PERIMETER', 'AREA_AC', 'TARGET'],\n",
    "#        axis = 1))"
   ]
  },
  {
   "cell_type": "code",
   "execution_count": null,
   "id": "2d7e2b0f",
   "metadata": {},
   "outputs": [
    {
     "data": {
      "text/plain": [
       "<Axes: >"
      ]
     },
     "execution_count": 35,
     "metadata": {},
     "output_type": "execute_result"
    },
    {
     "data": {
      "image/png": "[encoded data removed]",
      "text/plain": [
       "<Figure size 640x480 with 1 Axes>"
      ]
     },
     "metadata": {},
     "output_type": "display_data"
    }
   ],
   "source": [
    "# Load CE boundary and convert to WGS84\n",
    "ce_boundary_utm = geopandas.read_file(ce_boundary_path)\n",
    "ce_boundary_utm.crs = '26911'\n",
    "ce_boundary = ce_boundary_utm.to_crs('4326')\n",
    "ce_boundary.plot()"
   ]
  },
  {
   "cell_type": "code",
   "execution_count": 48,
   "id": "05f92cf9",
   "metadata": {},
   "outputs": [],
   "source": [
    "# Clean 1999-2015 polygons\n",
    "# CE strips\n",
    "cook_1999To2015_utm_11n = geopandas.read_file(treatment_paths['ce_treatment_path_1999To2015'])\n",
    "cook_1999To2015_utm_11n.crs = '26911'\n",
    "\n",
    "cook_1999To2015_utm_11n = (cook_1999To2015_utm_11n\n",
    "    .to_crs('4326')\n",
    "    .drop(\n",
    "        ['Crop', 'Area', 'Perimeter', 'Area_ac', 'Ind_Field'],\n",
    "        axis = 1))\n",
    "\n",
    "ce_1999To2015 = cook_1999To2015_utm_11n[cook_1999To2015_utm_11n.intersects(ce_boundary.geometry.iloc[0])]\n"
   ]
  },
  {
   "cell_type": "code",
   "execution_count": 50,
   "id": "bcbd093d",
   "metadata": {},
   "outputs": [
    {
     "data": {
      "text/html": [
       "<div>\n",
       "<style scoped>\n",
       "    .dataframe tbody tr th:only-of-type {\n",
       "        vertical-align: middle;\n",
       "    }\n",
       "\n",
       "    .dataframe tbody tr th {\n",
       "        vertical-align: top;\n",
       "    }\n",
       "\n",
       "    .dataframe thead th {\n",
       "        text-align: right;\n",
       "    }\n",
       "</style>\n",
       "<table border=\"1\" class=\"dataframe\">\n",
       "  <thead>\n",
       "    <tr style=\"text-align: right;\">\n",
       "      <th></th>\n",
       "      <th>Strip</th>\n",
       "      <th>Field</th>\n",
       "      <th>geometry</th>\n",
       "    </tr>\n",
       "  </thead>\n",
       "  <tbody>\n",
       "    <tr>\n",
       "      <th>5</th>\n",
       "      <td>6</td>\n",
       "      <td>A</td>\n",
       "      <td>POLYGON ((-117.08667 46.77862, -117.08141 46.7...</td>\n",
       "    </tr>\n",
       "    <tr>\n",
       "      <th>6</th>\n",
       "      <td>5</td>\n",
       "      <td>A</td>\n",
       "      <td>POLYGON ((-117.08718 46.77863, -117.08189 46.7...</td>\n",
       "    </tr>\n",
       "    <tr>\n",
       "      <th>7</th>\n",
       "      <td>4</td>\n",
       "      <td>A</td>\n",
       "      <td>POLYGON ((-117.08769 46.77864, -117.08247 46.7...</td>\n",
       "    </tr>\n",
       "    <tr>\n",
       "      <th>8</th>\n",
       "      <td>3</td>\n",
       "      <td>A</td>\n",
       "      <td>POLYGON ((-117.08817 46.77865, -117.08302 46.7...</td>\n",
       "    </tr>\n",
       "    <tr>\n",
       "      <th>9</th>\n",
       "      <td>2</td>\n",
       "      <td>A</td>\n",
       "      <td>POLYGON ((-117.08868 46.77866, -117.08386 46.7...</td>\n",
       "    </tr>\n",
       "  </tbody>\n",
       "</table>\n",
       "</div>"
      ],
      "text/plain": [
       "   Strip Field                                           geometry\n",
       "5      6     A  POLYGON ((-117.08667 46.77862, -117.08141 46.7...\n",
       "6      5     A  POLYGON ((-117.08718 46.77863, -117.08189 46.7...\n",
       "7      4     A  POLYGON ((-117.08769 46.77864, -117.08247 46.7...\n",
       "8      3     A  POLYGON ((-117.08817 46.77865, -117.08302 46.7...\n",
       "9      2     A  POLYGON ((-117.08868 46.77866, -117.08386 46.7..."
      ]
     },
     "execution_count": 50,
     "metadata": {},
     "output_type": "execute_result"
    }
   ],
   "source": [
    "ce_1999To2015.head()"
   ]
  }
 ],
 "metadata": {
  "kernelspec": {
   "display_name": "base",
   "language": "python",
   "name": "python3"
  },
  "language_info": {
   "codemirror_mode": {
    "name": "ipython",
    "version": 3
   },
   "file_extension": ".py",
   "mimetype": "text/x-python",
   "name": "python",
   "nbconvert_exporter": "python",
   "pygments_lexer": "ipython3",
   "version": "3.12.3"
  }
 },
 "nbformat": 4,
 "nbformat_minor": 5
}
